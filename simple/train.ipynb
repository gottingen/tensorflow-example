{
 "cells": [
  {
   "cell_type": "code",
   "execution_count": 71,
   "metadata": {
    "collapsed": true,
    "ExecuteTime": {
     "end_time": "2023-05-02T06:28:37.189726016Z",
     "start_time": "2023-05-02T06:28:37.141248781Z"
    }
   },
   "outputs": [],
   "source": [
    "import numpy as np\n",
    "import tensorflow as tf\n",
    "from keras.models import Sequential\n",
    "from keras.layers import Dense\n",
    "import matplotlib.pyplot as plt"
   ]
  },
  {
   "cell_type": "code",
   "execution_count": 72,
   "outputs": [],
   "source": [
    "data=[\n",
    "    [0.067732,3.176513],[0.427810,3.816464],[0.995731,4.550095],[0.738336,4.256571],[0.981083,4.560815],\n",
    "    [0.526171,3.929515],[0.378887,3.526170],[0.033859,3.156393],[0.132791,3.110301],[0.138306,3.149813],\n",
    "    [0.247809,3.476346],[0.648270,4.119688],[0.731209,4.282233],[0.236833,3.486582],[0.969788,4.655492],\n",
    "    [0.607492,3.965162],[0.358622,3.514900],[0.147846,3.125947],[0.637820,4.094115],[0.230372,3.476039],\n",
    "    [0.070237,3.210610],[0.067154,3.190612],[0.925577,4.631504],[0.717733,4.295890],[0.015371,3.085028],\n",
    "    [0.335070,3.448080],[0.040486,3.167440],[0.212575,3.364266],[0.617218,3.993482],[0.541196,3.891471]\n",
    "]"
   ],
   "metadata": {
    "collapsed": false,
    "ExecuteTime": {
     "end_time": "2023-05-02T06:28:37.189971318Z",
     "start_time": "2023-05-02T06:28:37.182006302Z"
    }
   }
  },
  {
   "cell_type": "code",
   "execution_count": 73,
   "outputs": [],
   "source": [
    "dataMat = np.array(data)\n",
    "X = dataMat[:,0:1]   # 变量x\n",
    "y = dataMat[:,1]   #变量y"
   ],
   "metadata": {
    "collapsed": false,
    "ExecuteTime": {
     "end_time": "2023-05-02T06:28:37.190078149Z",
     "start_time": "2023-05-02T06:28:37.182288241Z"
    }
   }
  },
  {
   "cell_type": "code",
   "execution_count": 74,
   "outputs": [],
   "source": [
    "model = Sequential()\n",
    "model.add(Dense(input_dim=1, units=1))"
   ],
   "metadata": {
    "collapsed": false,
    "ExecuteTime": {
     "end_time": "2023-05-02T06:28:37.190147297Z",
     "start_time": "2023-05-02T06:28:37.182480204Z"
    }
   }
  },
  {
   "cell_type": "code",
   "execution_count": 75,
   "outputs": [],
   "source": [
    "model.compile(loss='mse', optimizer='sgd')"
   ],
   "metadata": {
    "collapsed": false,
    "ExecuteTime": {
     "end_time": "2023-05-02T06:28:37.229869592Z",
     "start_time": "2023-05-02T06:28:37.188539178Z"
    }
   }
  },
  {
   "cell_type": "code",
   "execution_count": 76,
   "outputs": [
    {
     "name": "stdout",
     "output_type": "stream",
     "text": [
      "Training -----------\n",
      "After 0 trainings, the cost: 10.858097\n",
      "After 50 trainings, the cost: 0.999009\n",
      "After 100 trainings, the cost: 0.121070\n",
      "After 150 trainings, the cost: 0.039254\n",
      "After 200 trainings, the cost: 0.028553\n",
      "After 250 trainings, the cost: 0.024668\n",
      "After 300 trainings, the cost: 0.021825\n",
      "After 350 trainings, the cost: 0.019449\n",
      "After 400 trainings, the cost: 0.017432\n",
      "After 450 trainings, the cost: 0.015717\n",
      "After 500 trainings, the cost: 0.014258\n"
     ]
    }
   ],
   "source": [
    "print('Training -----------')\n",
    "for step in range(501):\n",
    "    cost = model.train_on_batch(X, y)\n",
    "    if step % 50 == 0:\n",
    "        print(\"After %d trainings, the cost: %f\" % (step, cost))"
   ],
   "metadata": {
    "collapsed": false,
    "ExecuteTime": {
     "end_time": "2023-05-02T06:28:38.943119155Z",
     "start_time": "2023-05-02T06:28:37.230266547Z"
    }
   }
  },
  {
   "cell_type": "code",
   "execution_count": 77,
   "outputs": [
    {
     "name": "stdout",
     "output_type": "stream",
     "text": [
      "\n",
      "Testing ------------\n",
      "1/1 [==============================] - 0s 38ms/step - loss: 0.0142\n",
      "test cost: 0.014231125824153423\n",
      "Weights= [[1.9213194]] \n",
      "biases= [2.8942468]\n"
     ]
    }
   ],
   "source": [
    "print('\\nTesting ------------')\n",
    "cost = model.evaluate(X, y, batch_size=40)\n",
    "print('test cost:', cost)\n",
    "W, b = model.layers[0].get_weights()\n",
    "print('Weights=', W, '\\nbiases=', b)"
   ],
   "metadata": {
    "collapsed": false,
    "ExecuteTime": {
     "end_time": "2023-05-02T06:28:39.001855506Z",
     "start_time": "2023-05-02T06:28:38.945145385Z"
    }
   }
  },
  {
   "cell_type": "code",
   "execution_count": 78,
   "outputs": [
    {
     "name": "stdout",
     "output_type": "stream",
     "text": [
      "1/1 [==============================] - 0s 20ms/step\n"
     ]
    },
    {
     "data": {
      "text/plain": "<Figure size 640x480 with 1 Axes>",
      "image/png": "[encoded data removed]"
     },
     "metadata": {},
     "output_type": "display_data"
    }
   ],
   "source": [
    "Y_pred = model.predict(X)\n",
    "plt.scatter(X, y)\n",
    "plt.plot(X, Y_pred)\n",
    "plt.show()"
   ],
   "metadata": {
    "collapsed": false,
    "ExecuteTime": {
     "end_time": "2023-05-02T06:28:39.113025846Z",
     "start_time": "2023-05-02T06:28:39.003447211Z"
    }
   }
  },
  {
   "cell_type": "code",
   "execution_count": 81,
   "outputs": [
    {
     "ename": "TypeError",
     "evalue": "'module' object is not callable",
     "output_type": "error",
     "traceback": [
      "\u001B[0;31m---------------------------------------------------------------------------\u001B[0m",
      "\u001B[0;31mTypeError\u001B[0m                                 Traceback (most recent call last)",
      "Cell \u001B[0;32mIn[81], line 2\u001B[0m\n\u001B[1;32m      1\u001B[0m model\u001B[38;5;241m.\u001B[39msave(\u001B[38;5;124m\"\u001B[39m\u001B[38;5;124mmodel.h5\u001B[39m\u001B[38;5;124m\"\u001B[39m)\n\u001B[0;32m----> 2\u001B[0m \u001B[43mtf\u001B[49m\u001B[38;5;241;43m.\u001B[39;49m\u001B[43msaved_model\u001B[49m\u001B[43m(\u001B[49m\u001B[43mmodel\u001B[49m\u001B[43m)\u001B[49m\n",
      "\u001B[0;31mTypeError\u001B[0m: 'module' object is not callable"
     ]
    }
   ],
   "source": [
    "model.save(\"model.h5\")\n",
    "tf.saved_model(model)"
   ],
   "metadata": {
    "collapsed": false,
    "ExecuteTime": {
     "end_time": "2023-05-02T06:31:35.417934656Z",
     "start_time": "2023-05-02T06:31:35.374765573Z"
    }
   }
  },
  {
   "cell_type": "code",
   "execution_count": 80,
   "outputs": [
    {
     "name": "stdout",
     "output_type": "stream",
     "text": [
      "Inputs are: [<KerasTensor: shape=(None, 1) dtype=float32 (created by layer 'dense_8_input')>]\n",
      "Outputs are: [<KerasTensor: shape=(None, 1) dtype=float32 (created by layer 'dense_8')>]\n"
     ]
    },
    {
     "name": "stderr",
     "output_type": "stream",
     "text": [
      "/home/ubuntu/miniconda3/envs/tf-example-dev/lib/python3.8/site-packages/keras/backend.py:451: UserWarning: `tf.keras.backend.set_learning_phase` is deprecated and will be removed after 2020-10-11. To update it, simply pass a True/False value to the `training` argument of the `__call__` method of your layer or model.\n",
      "  warnings.warn(\n",
      "2023-05-02 14:30:09.424875: I tensorflow/compiler/xla/stream_executor/cuda/cuda_gpu_executor.cc:981] successful NUMA node read from SysFS had negative value (-1), but there must be at least one NUMA node, so returning NUMA node zero\n",
      "2023-05-02 14:30:09.425018: I tensorflow/compiler/xla/stream_executor/cuda/cuda_gpu_executor.cc:981] successful NUMA node read from SysFS had negative value (-1), but there must be at least one NUMA node, so returning NUMA node zero\n",
      "2023-05-02 14:30:09.425075: I tensorflow/compiler/xla/stream_executor/cuda/cuda_gpu_executor.cc:981] successful NUMA node read from SysFS had negative value (-1), but there must be at least one NUMA node, so returning NUMA node zero\n",
      "2023-05-02 14:30:09.425152: I tensorflow/compiler/xla/stream_executor/cuda/cuda_gpu_executor.cc:981] successful NUMA node read from SysFS had negative value (-1), but there must be at least one NUMA node, so returning NUMA node zero\n",
      "2023-05-02 14:30:09.425206: I tensorflow/compiler/xla/stream_executor/cuda/cuda_gpu_executor.cc:981] successful NUMA node read from SysFS had negative value (-1), but there must be at least one NUMA node, so returning NUMA node zero\n",
      "2023-05-02 14:30:09.425247: I tensorflow/core/common_runtime/gpu/gpu_device.cc:1613] Created device /job:localhost/replica:0/task:0/device:GPU:0 with 5533 MB memory:  -> device: 0, name: NVIDIA GeForce RTX 3060, pci bus id: 0000:01:00.0, compute capability: 8.6\n"
     ]
    },
    {
     "ename": "TypeError",
     "evalue": "Keras symbolic inputs/outputs do not implement `op`. You may be trying to pass Keras symbolic inputs/outputs to a TF API that does not register dispatching, preventing Keras from automatically converting the API call to a lambda layer in the Functional Model.",
     "output_type": "error",
     "traceback": [
      "\u001B[0;31m---------------------------------------------------------------------------\u001B[0m",
      "\u001B[0;31mTypeError\u001B[0m                                 Traceback (most recent call last)",
      "Cell \u001B[0;32mIn[80], line 25\u001B[0m\n\u001B[1;32m     22\u001B[0m \u001B[38;5;28mprint\u001B[39m(\u001B[38;5;124m'\u001B[39m\u001B[38;5;124mInputs are:\u001B[39m\u001B[38;5;124m'\u001B[39m, keras_model\u001B[38;5;241m.\u001B[39minputs)\n\u001B[1;32m     23\u001B[0m \u001B[38;5;28mprint\u001B[39m(\u001B[38;5;124m'\u001B[39m\u001B[38;5;124mOutputs are:\u001B[39m\u001B[38;5;124m'\u001B[39m, keras_model\u001B[38;5;241m.\u001B[39moutputs)\n\u001B[0;32m---> 25\u001B[0m frozen_graph \u001B[38;5;241m=\u001B[39m freeze_session(K\u001B[38;5;241m.\u001B[39mget_session(), output_names\u001B[38;5;241m=\u001B[39m[out\u001B[38;5;241m.\u001B[39mop\u001B[38;5;241m.\u001B[39mname \u001B[38;5;28;01mfor\u001B[39;00m out \u001B[38;5;129;01min\u001B[39;00m model\u001B[38;5;241m.\u001B[39moutputs])\n\u001B[1;32m     26\u001B[0m graph_io\u001B[38;5;241m.\u001B[39mwrite_graph(frozen_graph, \u001B[38;5;124m\"\u001B[39m\u001B[38;5;124m./\u001B[39m\u001B[38;5;124m\"\u001B[39m, \u001B[38;5;124m\"\u001B[39m\u001B[38;5;124mmodel/frozen_model.pb\u001B[39m\u001B[38;5;124m\"\u001B[39m, as_text\u001B[38;5;241m=\u001B[39m\u001B[38;5;28;01mFalse\u001B[39;00m)\n",
      "Cell \u001B[0;32mIn[80], line 25\u001B[0m, in \u001B[0;36m<listcomp>\u001B[0;34m(.0)\u001B[0m\n\u001B[1;32m     22\u001B[0m \u001B[38;5;28mprint\u001B[39m(\u001B[38;5;124m'\u001B[39m\u001B[38;5;124mInputs are:\u001B[39m\u001B[38;5;124m'\u001B[39m, keras_model\u001B[38;5;241m.\u001B[39minputs)\n\u001B[1;32m     23\u001B[0m \u001B[38;5;28mprint\u001B[39m(\u001B[38;5;124m'\u001B[39m\u001B[38;5;124mOutputs are:\u001B[39m\u001B[38;5;124m'\u001B[39m, keras_model\u001B[38;5;241m.\u001B[39moutputs)\n\u001B[0;32m---> 25\u001B[0m frozen_graph \u001B[38;5;241m=\u001B[39m freeze_session(K\u001B[38;5;241m.\u001B[39mget_session(), output_names\u001B[38;5;241m=\u001B[39m[\u001B[43mout\u001B[49m\u001B[38;5;241;43m.\u001B[39;49m\u001B[43mop\u001B[49m\u001B[38;5;241m.\u001B[39mname \u001B[38;5;28;01mfor\u001B[39;00m out \u001B[38;5;129;01min\u001B[39;00m model\u001B[38;5;241m.\u001B[39moutputs])\n\u001B[1;32m     26\u001B[0m graph_io\u001B[38;5;241m.\u001B[39mwrite_graph(frozen_graph, \u001B[38;5;124m\"\u001B[39m\u001B[38;5;124m./\u001B[39m\u001B[38;5;124m\"\u001B[39m, \u001B[38;5;124m\"\u001B[39m\u001B[38;5;124mmodel/frozen_model.pb\u001B[39m\u001B[38;5;124m\"\u001B[39m, as_text\u001B[38;5;241m=\u001B[39m\u001B[38;5;28;01mFalse\u001B[39;00m)\n",
      "File \u001B[0;32m~/miniconda3/envs/tf-example-dev/lib/python3.8/site-packages/keras/engine/keras_tensor.py:257\u001B[0m, in \u001B[0;36mKerasTensor.op\u001B[0;34m(self)\u001B[0m\n\u001B[1;32m    255\u001B[0m \u001B[38;5;129m@property\u001B[39m\n\u001B[1;32m    256\u001B[0m \u001B[38;5;28;01mdef\u001B[39;00m \u001B[38;5;21mop\u001B[39m(\u001B[38;5;28mself\u001B[39m):\n\u001B[0;32m--> 257\u001B[0m     \u001B[38;5;28;01mraise\u001B[39;00m \u001B[38;5;167;01mTypeError\u001B[39;00m(\n\u001B[1;32m    258\u001B[0m         \u001B[38;5;124m\"\u001B[39m\u001B[38;5;124mKeras symbolic inputs/outputs do not \u001B[39m\u001B[38;5;124m\"\u001B[39m\n\u001B[1;32m    259\u001B[0m         \u001B[38;5;124m\"\u001B[39m\u001B[38;5;124mimplement `op`. You may be \u001B[39m\u001B[38;5;124m\"\u001B[39m\n\u001B[1;32m    260\u001B[0m         \u001B[38;5;124m\"\u001B[39m\u001B[38;5;124mtrying to pass Keras symbolic inputs/outputs \u001B[39m\u001B[38;5;124m\"\u001B[39m\n\u001B[1;32m    261\u001B[0m         \u001B[38;5;124m\"\u001B[39m\u001B[38;5;124mto a TF API that does not register dispatching, \u001B[39m\u001B[38;5;124m\"\u001B[39m\n\u001B[1;32m    262\u001B[0m         \u001B[38;5;124m\"\u001B[39m\u001B[38;5;124mpreventing Keras from automatically \u001B[39m\u001B[38;5;124m\"\u001B[39m\n\u001B[1;32m    263\u001B[0m         \u001B[38;5;124m\"\u001B[39m\u001B[38;5;124mconverting the API call to a lambda layer \u001B[39m\u001B[38;5;124m\"\u001B[39m\n\u001B[1;32m    264\u001B[0m         \u001B[38;5;124m\"\u001B[39m\u001B[38;5;124min the Functional Model.\u001B[39m\u001B[38;5;124m\"\u001B[39m\n\u001B[1;32m    265\u001B[0m     )\n",
      "\u001B[0;31mTypeError\u001B[0m: Keras symbolic inputs/outputs do not implement `op`. You may be trying to pass Keras symbolic inputs/outputs to a TF API that does not register dispatching, preventing Keras from automatically converting the API call to a lambda layer in the Functional Model."
     ]
    }
   ],
   "source": [
    "from keras.models import load_model\n",
    "import tensorflow as tf\n",
    "from tensorflow.python.framework import graph_io\n",
    "from keras import backend as K\n",
    "\n",
    "def freeze_session(session, keep_var_names=None, output_names=None, clear_devices=True):\n",
    "    from tensorflow.python.framework.graph_util import convert_variables_to_constants\n",
    "    graph = session.graph\n",
    "    with graph.as_default():\n",
    "        freeze_var_names = list(set(v.op.name for v in tf.global_variables()).difference(keep_var_names or []))\n",
    "        output_names = output_names or []\n",
    "        output_names += [v.op.name for v in tf.global_variables()]\n",
    "        input_graph_def = graph.as_graph_def()\n",
    "        if clear_devices:\n",
    "            for node in input_graph_def.node:\n",
    "                node.device = \"\"\n",
    "        frozen_graph = convert_variables_to_constants(session, input_graph_def, output_names, freeze_var_names)\n",
    "    return frozen_graph\n",
    "\n",
    "K.set_learning_phase(0)\n",
    "keras_model = load_model('./model.h5')\n",
    "print('Inputs are:', keras_model.inputs)\n",
    "print('Outputs are:', keras_model.outputs)\n",
    "\n",
    "frozen_graph = freeze_session(K.get_session(), output_names=[out.op.name for out in model.outputs])\n",
    "graph_io.write_graph(frozen_graph, \"./\", \"model/frozen_model.pb\", as_text=False)"
   ],
   "metadata": {
    "collapsed": false,
    "ExecuteTime": {
     "end_time": "2023-05-02T06:30:09.457983944Z",
     "start_time": "2023-05-02T06:30:09.394715500Z"
    }
   }
  }
 ],
 "metadata": {
  "kernelspec": {
   "display_name": "Python 3",
   "language": "python",
   "name": "python3"
  },
  "language_info": {
   "codemirror_mode": {
    "name": "ipython",
    "version": 2
   },
   "file_extension": ".py",
   "mimetype": "text/x-python",
   "name": "python",
   "nbconvert_exporter": "python",
   "pygments_lexer": "ipython2",
   "version": "2.7.6"
  }
 },
 "nbformat": 4,
 "nbformat_minor": 0
}
